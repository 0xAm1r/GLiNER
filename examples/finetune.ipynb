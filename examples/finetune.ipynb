{
 "cells": [
  {
   "cell_type": "code",
   "execution_count": null,
   "id": "6211d676-1294-4401-bcdf-3fbb3e52a9ec",
   "metadata": {},
   "outputs": [],
   "source": [
    "import json\n",
    "train_path = \"sample_data.json\" # from https://github.com/urchade/GLiNER/blob/main/examples/sample_data.json\n",
    "\n",
    "with open(train_path, \"r\") as f:\n",
    "    data = json.load(f)"
   ]
  },
  {
   "cell_type": "code",
   "execution_count": null,
   "id": "bef30385-7814-4f36-89e8-f2c79a7b57c2",
   "metadata": {},
   "outputs": [],
   "source": [
    "# available models: https://huggingface.co/urchade\n",
    "import torch\n",
    "from gliner import GLiNER, GlinerTrainer\n",
    " \n",
    "model = GLiNER.from_pretrained(\"urchade/gliner_small\")\n",
    "\n",
    "device = torch.device(\"cuda\" if torch.cuda.is_available() else \"cpu\") \n",
    "model = model.to(device)"
   ]
  },
  {
   "cell_type": "code",
   "execution_count": null,
   "id": "0ef46399-cea7-4619-aafa-da69c43d9553",
   "metadata": {},
   "outputs": [],
   "source": [
    "eval_data = {\n",
    "    \"entity_types\": [\"Person\", 'Award'],\n",
    "    \"samples\": data[:50]\n",
    "}\n",
    "\n",
    "trainer = GlinerTrainer(model, \n",
    "                        train_data = data, \n",
    "                        batch_size = 4,\n",
    "                        grad_accum_every = 16,\n",
    "                        lr_encoder = 1e-5,\n",
    "                        lr_others = 5e-5, \n",
    "                        freeze_token_rep = False, \n",
    "                        val_every_step = 1000, \n",
    "                        val_data = eval_data,\n",
    "                        checkpoint_every_epoch = 15, # Or checkpoint_every_step if you use steps\n",
    "                        max_types=25,\n",
    "                        \n",
    "                        #Uncomment these if you want to train using fp16 \n",
    "                        #optimizer_kwargs = { \"eps\": 1e-7},  # Using higher eps might cause NaN loss\n",
    "                        #accelerator_kwargs = {\"mixed_precision\" : \"fp16\" },\n",
    ")\n",
    "\n",
    "\n",
    "trainer.train(num_epochs=50) # Or by steps: trainer.train(num_steps=50)"
   ]
  },
  {
   "cell_type": "code",
   "execution_count": null,
   "id": "040ebb95-bba1-440d-89c8-5499448b560b",
   "metadata": {},
   "outputs": [],
   "source": [
    "trainer.model.save_pretrained(\"small\")"
   ]
  },
  {
   "cell_type": "code",
   "execution_count": null,
   "id": "c78f13b0-57a1-41a1-91ad-bb5a5d1890a4",
   "metadata": {},
   "outputs": [],
   "source": [
    "md = GLiNER.from_pretrained(\"small\", local_files_only=True)"
   ]
  },
  {
   "cell_type": "code",
   "execution_count": null,
   "id": "2ddc7ccd-5cb1-467b-ab8c-9c997df76c62",
   "metadata": {},
   "outputs": [],
   "source": [
    "text = \"\"\"\n",
    "Cristiano Ronaldo dos Santos Aveiro (Portuguese pronunciation: [kɾiʃˈtjɐnu ʁɔˈnaldu]; born 5 February 1985) is a Portuguese professional footballer who plays as a forward for and captains both Saudi Pro League club Al Nassr and the Portugal national team. Widely regarded as one of the greatest players of all time, Ronaldo has won five Ballon d'Or awards,[note 3] a record three UEFA Men's Player of the Year Awards, and four European Golden Shoes, the most by a European player. He has won 33 trophies in his career, including seven league titles, five UEFA Champions Leagues, the UEFA European Championship and the UEFA Nations League. Ronaldo holds the records for most appearances (183), goals (140) and assists (42) in the Champions League, goals in the European Championship (14), international goals (128) and international appearances (205). He is one of the few players to have made over 1,200 professional career appearances, the most by an outfield player, and has scored over 850 official senior career goals for club and country, making him the top goalscorer of all time.\n",
    "\"\"\"\n",
    "\n",
    "# Labels for entity prediction\n",
    "labels = [\"Person\", \"Award\"] # for v2.1 use capital case for better performance\n",
    "\n",
    "# Perform entity prediction\n",
    "entities = model.predict_entities(text, labels, threshold=0.5)\n",
    "\n",
    "# Display predicted entities and their labels\n",
    "for entity in entities:\n",
    "    print(entity[\"text\"], \"=>\", entity[\"label\"])"
   ]
  }
 ],
 "metadata": {
  "kernelspec": {
   "display_name": "Python 3 (ipykernel)",
   "language": "python",
   "name": "python3"
  },
  "language_info": {
   "codemirror_mode": {
    "name": "ipython",
    "version": 3
   },
   "file_extension": ".py",
   "mimetype": "text/x-python",
   "name": "python",
   "nbconvert_exporter": "python",
   "pygments_lexer": "ipython3",
   "version": "3.11.5"
  }
 },
 "nbformat": 4,
 "nbformat_minor": 5
}
